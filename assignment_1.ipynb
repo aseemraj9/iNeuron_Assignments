{
  "nbformat": 4,
  "nbformat_minor": 0,
  "metadata": {
    "colab": {
      "name": "assignment 1",
      "provenance": [],
      "collapsed_sections": []
    },
    "kernelspec": {
      "name": "python3",
      "display_name": "Python 3"
    }
  },
  "cells": [
    {
      "cell_type": "markdown",
      "metadata": {
        "id": "i_9rt9gZ2Xkn"
      },
      "source": [
        "### 1. Write a program which will find all such numbers which are divisible by 7 but are not a multiple of 5, between 2000 and 3200 (both included). The numbers obtained should be printed in a comma-separated sequence on a single line."
      ]
    },
    {
      "cell_type": "code",
      "metadata": {
        "colab": {
          "base_uri": "https://localhost:8080/"
        },
        "id": "kiUO7vU07buC",
        "outputId": "bed72759-f493-472a-cf98-1c29d29d773b"
      },
      "source": [
        "lst = []\n",
        "for a in range(2000,3201):\n",
        "    if (a%7 == 0) & (a%5 != 0):\n",
        "        lst.append(str(a))\n",
        "\n",
        "separator = ', '\n",
        "print(separator.join(lst))\n"
      ],
      "execution_count": 8,
      "outputs": [
        {
          "output_type": "stream",
          "text": [
            "2002, 2009, 2016, 2023, 2037, 2044, 2051, 2058, 2072, 2079, 2086, 2093, 2107, 2114, 2121, 2128, 2142, 2149, 2156, 2163, 2177, 2184, 2191, 2198, 2212, 2219, 2226, 2233, 2247, 2254, 2261, 2268, 2282, 2289, 2296, 2303, 2317, 2324, 2331, 2338, 2352, 2359, 2366, 2373, 2387, 2394, 2401, 2408, 2422, 2429, 2436, 2443, 2457, 2464, 2471, 2478, 2492, 2499, 2506, 2513, 2527, 2534, 2541, 2548, 2562, 2569, 2576, 2583, 2597, 2604, 2611, 2618, 2632, 2639, 2646, 2653, 2667, 2674, 2681, 2688, 2702, 2709, 2716, 2723, 2737, 2744, 2751, 2758, 2772, 2779, 2786, 2793, 2807, 2814, 2821, 2828, 2842, 2849, 2856, 2863, 2877, 2884, 2891, 2898, 2912, 2919, 2926, 2933, 2947, 2954, 2961, 2968, 2982, 2989, 2996, 3003, 3017, 3024, 3031, 3038, 3052, 3059, 3066, 3073, 3087, 3094, 3101, 3108, 3122, 3129, 3136, 3143, 3157, 3164, 3171, 3178, 3192, 3199\n"
          ],
          "name": "stdout"
        }
      ]
    },
    {
      "cell_type": "markdown",
      "metadata": {
        "id": "xt8s7tPI2i60"
      },
      "source": [
        "### 2. Write a Python program to accept the user's first and last name and then getting them printed in the the reverse order with a space between first name and last name."
      ]
    },
    {
      "cell_type": "code",
      "metadata": {
        "id": "0FQ3BL6f7j7V",
        "colab": {
          "base_uri": "https://localhost:8080/"
        },
        "outputId": "83c99430-5105-49a2-8c9d-5af8256e9947"
      },
      "source": [
        "print('Enter your FIRST name:')\n",
        "frst = input()\n",
        "txt1 = frst[::-1]\n",
        "\n",
        "print('Enter your LAST name:')\n",
        "last = input()\n",
        "txt2 = last[::-1]\n",
        "\n",
        "print(txt1, txt2)\n",
        "print(last,frst)"
      ],
      "execution_count": 15,
      "outputs": [
        {
          "output_type": "stream",
          "text": [
            "Enter your FIRST name:\n",
            "aseem\n",
            "Enter your LAST name:\n",
            "raj\n",
            "meesa jar\n",
            "raj aseem\n"
          ],
          "name": "stdout"
        }
      ]
    },
    {
      "cell_type": "markdown",
      "metadata": {
        "id": "iOLlQi1341g3"
      },
      "source": [
        "### 3. Write a Python program to find the volume of a sphere with diameter 12 cm. Formula: V=4/3 * π * r^3"
      ]
    },
    {
      "cell_type": "code",
      "metadata": {
        "colab": {
          "base_uri": "https://localhost:8080/"
        },
        "id": "yw6IOPy78KiB",
        "outputId": "8738b179-c866-48f1-ee62-b9f8594a3466"
      },
      "source": [
        "from math import pi\n",
        "\n",
        "diameter = 12\n",
        "r = diameter/2\n",
        "volume = (4/3)*pi*(pow(r, 3) )\n",
        "print(volume)"
      ],
      "execution_count": 19,
      "outputs": [
        {
          "output_type": "stream",
          "text": [
            "904.7786842338603\n"
          ],
          "name": "stdout"
        }
      ]
    },
    {
      "cell_type": "code",
      "metadata": {
        "id": "bWeUZ1y357sx"
      },
      "source": [
        ""
      ],
      "execution_count": null,
      "outputs": []
    }
  ]
}